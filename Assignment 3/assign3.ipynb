{
 "cells": [
  {
   "cell_type": "code",
   "execution_count": 5,
   "id": "23aa66d3-e0f6-4392-bf3c-cf15b3a83ff1",
   "metadata": {},
   "outputs": [],
   "source": [
    "import findspark;"
   ]
  },
  {
   "cell_type": "code",
   "execution_count": 8,
   "id": "bd8c3e66-d75a-42d2-b667-0945b2357512",
   "metadata": {},
   "outputs": [],
   "source": [
    "from pyspark.sql import SparkSession"
   ]
  },
  {
   "cell_type": "code",
   "execution_count": 9,
   "id": "66d8709c-b8c6-465e-942c-ed418a7ef404",
   "metadata": {},
   "outputs": [],
   "source": [
    "spark = SparkSession.builder \\\n",
    "        .master(\"local\") \\\n",
    "        .appName(\"Linear Regres Model\") \\\n",
    "        .config(\"spark.executor.memory\", \"1gb\") \\\n",
    "        .getOrCreate()\n",
    "\n",
    "sc = spark.sparkContext"
   ]
  },
  {
   "cell_type": "code",
   "execution_count": 12,
   "id": "83139089-cc68-4615-8b8b-b590dd0626e8",
   "metadata": {},
   "outputs": [],
   "source": [
    "from pyspark.sql import SQLContext\n",
    "from pyspark.sql.types import *\n",
    "sqlContext = SQLContext(sc)\n",
    "df = sqlContext.read.load('titanic.csv', \n",
    "              format='com.databricks.spark.csv', \n",
    "              header='true', \n",
    "              inferSchema='true')"
   ]
  },
  {
   "cell_type": "code",
   "execution_count": 15,
   "id": "34fd5b75-8f79-49bb-8951-43281c8ec569",
   "metadata": {},
   "outputs": [
    {
     "name": "stdout",
     "output_type": "stream",
     "text": [
      "+--------+------+--------------------+------+----+-----------------------+-----------------------+-------+\n",
      "|Survived|Pclass|                Name|   Sex| Age|Siblings/Spouses Aboard|Parents/Children Aboard|   Fare|\n",
      "+--------+------+--------------------+------+----+-----------------------+-----------------------+-------+\n",
      "|       0|     3|Mr. Owen Harris B...|  male|22.0|                      1|                      0|   7.25|\n",
      "|       1|     1|Mrs. John Bradley...|female|38.0|                      1|                      0|71.2833|\n",
      "|       1|     3|Miss. Laina Heikk...|female|26.0|                      0|                      0|  7.925|\n",
      "|       1|     1|Mrs. Jacques Heat...|female|35.0|                      1|                      0|   53.1|\n",
      "|       0|     3|Mr. William Henry...|  male|35.0|                      0|                      0|   8.05|\n",
      "|       0|     3|     Mr. James Moran|  male|27.0|                      0|                      0| 8.4583|\n",
      "|       0|     1|Mr. Timothy J McC...|  male|54.0|                      0|                      0|51.8625|\n",
      "|       0|     3|Master. Gosta Leo...|  male| 2.0|                      3|                      1| 21.075|\n",
      "|       1|     3|Mrs. Oscar W (Eli...|female|27.0|                      0|                      2|11.1333|\n",
      "|       1|     2|Mrs. Nicholas (Ad...|female|14.0|                      1|                      0|30.0708|\n",
      "|       1|     3|Miss. Marguerite ...|female| 4.0|                      1|                      1|   16.7|\n",
      "|       1|     1|Miss. Elizabeth B...|female|58.0|                      0|                      0|  26.55|\n",
      "|       0|     3|Mr. William Henry...|  male|20.0|                      0|                      0|   8.05|\n",
      "|       0|     3|Mr. Anders Johan ...|  male|39.0|                      1|                      5| 31.275|\n",
      "|       0|     3|Miss. Hulda Amand...|female|14.0|                      0|                      0| 7.8542|\n",
      "|       1|     2|Mrs. (Mary D King...|female|55.0|                      0|                      0|   16.0|\n",
      "|       0|     3| Master. Eugene Rice|  male| 2.0|                      4|                      1| 29.125|\n",
      "|       1|     2|Mr. Charles Eugen...|  male|23.0|                      0|                      0|   13.0|\n",
      "|       0|     3|Mrs. Julius (Emel...|female|31.0|                      1|                      0|   18.0|\n",
      "|       1|     3|Mrs. Fatima Masse...|female|22.0|                      0|                      0|  7.225|\n",
      "+--------+------+--------------------+------+----+-----------------------+-----------------------+-------+\n",
      "only showing top 20 rows\n",
      "\n"
     ]
    }
   ],
   "source": [
    "df.show()"
   ]
  },
  {
   "cell_type": "code",
   "execution_count": 30,
   "id": "22137ad0-718a-4ea4-ab63-b47e2587803d",
   "metadata": {},
   "outputs": [
    {
     "name": "stdout",
     "output_type": "stream",
     "text": [
      "+--------+------+------+-----------------------+\n",
      "|Survived|Pclass|   Sex|Conditional_Probability|\n",
      "+--------+------+------+-----------------------+\n",
      "|       0|     1|female|                   0.01|\n",
      "|       0|     2|female|                   0.02|\n",
      "|       0|     3|female|                   0.23|\n",
      "|       0|     1|  male|                   0.13|\n",
      "|       0|     2|  male|                   0.16|\n",
      "|       0|     3|  male|                   0.52|\n",
      "|       1|     1|female|                   0.29|\n",
      "|       1|     2|female|                   0.22|\n",
      "|       1|     3|female|                   0.23|\n",
      "|       1|     1|  male|                   0.08|\n",
      "|       1|     2|  male|                   0.03|\n",
      "|       1|     3|  male|                   0.08|\n",
      "+--------+------+------+-----------------------+\n",
      "\n"
     ]
    }
   ],
   "source": [
    "from pyspark.sql import functions as F\n",
    "probability_df = (df.groupby([\"Survived\", \"Sex\", \"Pclass\"])\n",
    "                            .agg(F.count(F.lit(1)).alias(\"survived_sex_count\"))\n",
    "                            .join(df.groupby(\"Sex\").agg(F.count(F.lit(1)).alias(\"sex_count\")), on=\"Sex\")\n",
    "                            .withColumn(\"conditional_probability\", F.round(F.col(\"survived_sex_count\")/F.col(\"sex_count\"), 2))\n",
    "                            .select([\"Survived\", \"Pclass\", \"Sex\", \"Conditional_Probability\"])\n",
    "                            .sort([\"Survived\", \"Sex\", \"Pclass\"]))\n",
    "probability_df.show()"
   ]
  },
  {
   "cell_type": "code",
   "execution_count": 31,
   "id": "32a62589-527f-4f4c-8a46-1ef3d7b3c546",
   "metadata": {},
   "outputs": [],
   "source": [
    "from pyspark.mllib.classification import NaiveBayes, NaiveBayesModel\n",
    "from pyspark.mllib.util import MLUtils"
   ]
  },
  {
   "cell_type": "code",
   "execution_count": 79,
   "id": "0a5f1a1b-ed15-446d-ae11-c8c64175ec78",
   "metadata": {},
   "outputs": [
    {
     "name": "stdout",
     "output_type": "stream",
     "text": [
      "+------+------------------+\n",
      "|Pclass|         avg(Fare)|\n",
      "+------+------------------+\n",
      "|     1| 84.15468749999992|\n",
      "|     2| 20.66218315217391|\n",
      "|     3|13.707707392197129|\n",
      "+------+------------------+\n",
      "\n"
     ]
    }
   ],
   "source": [
    "from pyspark.sql import functions as F\n",
    "fare_average = (df.groupby([\"Pclass\"]).mean())\n",
    "result = fare_average.select([\"Pclass\", \"avg(Fare)\"]).sort([\"Pclass\"])\n",
    "\n",
    "result.show()"
   ]
  },
  {
   "cell_type": "code",
   "execution_count": null,
   "id": "82aaa953-0d65-4f54-909b-b704500b8d13",
   "metadata": {},
   "outputs": [],
   "source": []
  }
 ],
 "metadata": {
  "kernelspec": {
   "display_name": "Python 3",
   "language": "python",
   "name": "python3"
  },
  "language_info": {
   "codemirror_mode": {
    "name": "ipython",
    "version": 3
   },
   "file_extension": ".py",
   "mimetype": "text/x-python",
   "name": "python",
   "nbconvert_exporter": "python",
   "pygments_lexer": "ipython3",
   "version": "3.8.10"
  }
 },
 "nbformat": 4,
 "nbformat_minor": 5
}
